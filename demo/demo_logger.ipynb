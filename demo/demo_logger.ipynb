{
 "cells": [
  {
   "cell_type": "code",
   "execution_count": 1,
   "metadata": {},
   "outputs": [],
   "source": [
    "# import pyACC\n",
    "\n",
    "import sys \n",
    "sys.path.append(\"../\")\n"
   ]
  },
  {
   "cell_type": "code",
   "execution_count": 2,
   "metadata": {},
   "outputs": [],
   "source": [
    "# import Logger \n",
    "\n",
    "from pyACC.helpers import Logger"
   ]
  },
  {
   "cell_type": "code",
   "execution_count": 3,
   "metadata": {},
   "outputs": [],
   "source": [
    "# initialize Logger\n",
    "logger= Logger(\"Asia\")"
   ]
  },
  {
   "cell_type": "code",
   "execution_count": 4,
   "metadata": {},
   "outputs": [
    {
     "name": "stdout",
     "output_type": "stream",
     "text": [
      "2025-03-05 10:04:09.086722 :: \u001b[1m\u001b[35mAsia\u001b[0m :: \u001b[32mINFO\u001b[0m :: Hello World\n"
     ]
    }
   ],
   "source": [
    "#info massage\n",
    "\n",
    "logger(\"Hello World\")"
   ]
  },
  {
   "cell_type": "code",
   "execution_count": 5,
   "metadata": {},
   "outputs": [
    {
     "name": "stdout",
     "output_type": "stream",
     "text": [
      "2025-03-05 10:04:58.405464 :: \u001b[1m\u001b[35mAsia\u001b[0m :: \u001b[33mWARNING\u001b[0m :: This is a warning\n"
     ]
    }
   ],
   "source": [
    "# Warning massage \n",
    "logger.warning(\"This is a warning\")"
   ]
  },
  {
   "cell_type": "code",
   "execution_count": 6,
   "metadata": {},
   "outputs": [
    {
     "name": "stdout",
     "output_type": "stream",
     "text": [
      "2025-03-05 10:05:31.527263 :: \u001b[1m\u001b[35mAsia\u001b[0m :: \u001b[31mERROR\u001b[0m :: This is an error\n"
     ]
    }
   ],
   "source": [
    "#Error massage \n",
    "logger.error(\"This is an error\")"
   ]
  }
 ],
 "metadata": {
  "kernelspec": {
   "display_name": "acc-env",
   "language": "python",
   "name": "python3"
  },
  "language_info": {
   "codemirror_mode": {
    "name": "ipython",
    "version": 3
   },
   "file_extension": ".py",
   "mimetype": "text/x-python",
   "name": "python",
   "nbconvert_exporter": "python",
   "pygments_lexer": "ipython3",
   "version": "3.12.9"
  }
 },
 "nbformat": 4,
 "nbformat_minor": 2
}
